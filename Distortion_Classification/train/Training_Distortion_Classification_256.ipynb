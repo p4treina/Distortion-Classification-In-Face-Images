{
  "nbformat": 4,
  "nbformat_minor": 0,
  "metadata": {
    "colab": {
      "name": "Training_Distortion_Classification_256.ipynb",
      "provenance": [],
      "collapsed_sections": [],
      "toc_visible": true
    },
    "kernelspec": {
      "name": "python3",
      "display_name": "Python 3"
    },
    "accelerator": "GPU"
  },
  "cells": [
    {
      "cell_type": "markdown",
      "metadata": {
        "id": "B7UNJO_DURz_"
      },
      "source": [
        "## **Training Notebook for the Distortion Classification Model**\n",
        "### **Dataset**: OP1_New (85-10-5)\n",
        "#### **Image Size**: 256*256\n",
        "##### **Execution environment**: GPU\n"
      ]
    },
    {
      "cell_type": "code",
      "metadata": {
        "colab": {
          "base_uri": "https://localhost:8080/"
        },
        "id": "4EvMurWZYbcl",
        "outputId": "e765a433-5f77-4fae-c8bf-7a5530356678"
      },
      "source": [
        "!nvidia-smi"
      ],
      "execution_count": null,
      "outputs": [
        {
          "output_type": "stream",
          "text": [
            "Sun Jan  3 18:47:31 2021       \n",
            "+-----------------------------------------------------------------------------+\n",
            "| NVIDIA-SMI 460.27.04    Driver Version: 418.67       CUDA Version: 10.1     |\n",
            "|-------------------------------+----------------------+----------------------+\n",
            "| GPU  Name        Persistence-M| Bus-Id        Disp.A | Volatile Uncorr. ECC |\n",
            "| Fan  Temp  Perf  Pwr:Usage/Cap|         Memory-Usage | GPU-Util  Compute M. |\n",
            "|                               |                      |               MIG M. |\n",
            "|===============================+======================+======================|\n",
            "|   0  Tesla T4            Off  | 00000000:00:04.0 Off |                    0 |\n",
            "| N/A   45C    P8    11W /  70W |      0MiB / 15079MiB |      0%      Default |\n",
            "|                               |                      |                 ERR! |\n",
            "+-------------------------------+----------------------+----------------------+\n",
            "                                                                               \n",
            "+-----------------------------------------------------------------------------+\n",
            "| Processes:                                                                  |\n",
            "|  GPU   GI   CI        PID   Type   Process name                  GPU Memory |\n",
            "|        ID   ID                                                   Usage      |\n",
            "|=============================================================================|\n",
            "|  No running processes found                                                 |\n",
            "+-----------------------------------------------------------------------------+\n"
          ],
          "name": "stdout"
        }
      ]
    },
    {
      "cell_type": "code",
      "metadata": {
        "colab": {
          "base_uri": "https://localhost:8080/",
          "height": 35
        },
        "id": "dqm3RdC3YfOy",
        "outputId": "2974a451-2c0c-438e-facc-1d0dd548a3d7"
      },
      "source": [
        "import tensorflow as tf\n",
        "tf.__version__"
      ],
      "execution_count": null,
      "outputs": [
        {
          "output_type": "execute_result",
          "data": {
            "application/vnd.google.colaboratory.intrinsic+json": {
              "type": "string"
            },
            "text/plain": [
              "'2.4.0'"
            ]
          },
          "metadata": {
            "tags": []
          },
          "execution_count": 2
        }
      ]
    },
    {
      "cell_type": "code",
      "metadata": {
        "colab": {
          "base_uri": "https://localhost:8080/"
        },
        "id": "FY-F31eKT_cT",
        "outputId": "adbff19e-b867-4f88-efc2-b1668763915c"
      },
      "source": [
        "%tensorflow_version 2.x\n",
        "from tensorflow.python.client import device_lib\n",
        "def get_available_devices():\n",
        "    local_device_protos = device_lib.list_local_devices()\n",
        "    return [x.name for x in local_device_protos]\n",
        "print(get_available_devices()) "
      ],
      "execution_count": null,
      "outputs": [
        {
          "output_type": "stream",
          "text": [
            "['/device:CPU:0', '/device:GPU:0']\n"
          ],
          "name": "stdout"
        }
      ]
    },
    {
      "cell_type": "code",
      "metadata": {
        "colab": {
          "base_uri": "https://localhost:8080/"
        },
        "id": "6EycSwI1k9BE",
        "outputId": "7bf9d1e4-2853-4712-98ea-9524b0557d99"
      },
      "source": [
        "from google.colab import drive\n",
        "drive.mount('/content/drive')"
      ],
      "execution_count": null,
      "outputs": [
        {
          "output_type": "stream",
          "text": [
            "Mounted at /content/drive\n"
          ],
          "name": "stdout"
        }
      ]
    },
    {
      "cell_type": "code",
      "metadata": {
        "id": "KqBnng9vY8tL"
      },
      "source": [
        "from tensorflow.keras.layers import Dense, Conv2D, Flatten, Dropout, MaxPool2D, GlobalMaxPooling2D, Input\n",
        "from tensorflow.keras.models import Model, Sequential\n",
        "from tensorflow.keras.preprocessing.image import ImageDataGenerator, load_img\n",
        "import numpy as np\n",
        "from glob import glob"
      ],
      "execution_count": null,
      "outputs": []
    },
    {
      "cell_type": "code",
      "metadata": {
        "id": "th7V0TtYSQN8"
      },
      "source": [
        "zip_path = '/content/drive/MyDrive/USP/Tesis/Dataset/OP1_New.zip'\n",
        "!cp '{zip_path}' .\n",
        "!unzip -q OP1_New.zip\n",
        "!rm OP1_New.zip"
      ],
      "execution_count": null,
      "outputs": []
    },
    {
      "cell_type": "code",
      "metadata": {
        "colab": {
          "base_uri": "https://localhost:8080/"
        },
        "id": "pEr7xYTvZ1CP",
        "outputId": "22a046cf-998e-4e65-ae50-1e369f44e702"
      },
      "source": [
        "# image_size = (128,128)\n",
        "\n",
        "train_path = '/content/OP1/train'\n",
        "dev_path = '/content/OP1/dev'\n",
        "\n",
        "train_gen = ImageDataGenerator(rescale=1./255)\n",
        "dev_gen = ImageDataGenerator(rescale=1./255)\n",
        "\n",
        "train_set = train_gen.flow_from_directory(\n",
        "    train_path,\n",
        "    batch_size=64,\n",
        "    shuffle = True)\n",
        "\n",
        "dev_set = dev_gen.flow_from_directory(\n",
        "    dev_path,\n",
        "    batch_size=64,\n",
        "    shuffle = True)"
      ],
      "execution_count": null,
      "outputs": [
        {
          "output_type": "stream",
          "text": [
            "Found 76260 images belonging to 15 classes.\n",
            "Found 8970 images belonging to 15 classes.\n"
          ],
          "name": "stdout"
        }
      ]
    },
    {
      "cell_type": "code",
      "metadata": {
        "colab": {
          "base_uri": "https://localhost:8080/"
        },
        "id": "bKxKJdGEg7Ak",
        "outputId": "c25dbeae-81d7-4ae5-ebbb-030b989de85f"
      },
      "source": [
        "print(train_set.image_shape)"
      ],
      "execution_count": null,
      "outputs": [
        {
          "output_type": "stream",
          "text": [
            "(256, 256, 3)\n"
          ],
          "name": "stdout"
        }
      ]
    },
    {
      "cell_type": "code",
      "metadata": {
        "colab": {
          "base_uri": "https://localhost:8080/"
        },
        "id": "tZWbSgntfdtG",
        "outputId": "9ac600b6-78b8-4298-dbe7-3989ec9d6fda"
      },
      "source": [
        "## Define the Model\n",
        "filter_size = (3,3)\n",
        "padd = 'valid'\n",
        "act = 'relu'\n",
        "# input_size = (256,256,3)\n",
        "\n",
        "model = Sequential()\n",
        "model.add(Conv2D(16,\n",
        "                 kernel_size=filter_size,\n",
        "                 padding=padd,\n",
        "                 activation=act,\n",
        "                 input_shape=train_set.image_shape,\n",
        "                 name = 'CONV1'))\n",
        "\n",
        "model.add(MaxPool2D(name = 'MAXPOOL1'))\n",
        "\n",
        "# model.add(Dropout(0.1, name = 'DROPOUT1'))\n",
        "\n",
        "model.add(Conv2D(32,\n",
        "                 kernel_size=filter_size,\n",
        "                 padding=padd,\n",
        "                 activation=act,\n",
        "                 input_shape=train_set.image_shape,\n",
        "                 name = 'CONV2'))\n",
        "\n",
        "model.add(MaxPool2D(name = 'MAXPOOL2'))\n",
        "\n",
        "# model.add(Dropout(0.1, name = 'DROPOUT2'))\n",
        "\n",
        "model.add(Conv2D(64,\n",
        "                 kernel_size=filter_size,\n",
        "                 padding=padd,\n",
        "                 activation=act,\n",
        "                 input_shape=train_set.image_shape,\n",
        "                 name = 'CONV3'))\n",
        "\n",
        "model.add(MaxPool2D(name = 'MAXPOOL3'))\n",
        "\n",
        "# model.add(Dropout(0.1, name = 'DROPOUT3'))\n",
        "\n",
        "model.add(Conv2D(128,\n",
        "                 kernel_size=filter_size,\n",
        "                 padding=padd,\n",
        "                 activation=act,\n",
        "                 input_shape=train_set.image_shape,\n",
        "                 name = 'CONV4'))\n",
        "\n",
        "model.add(MaxPool2D(name = 'MAXPOOL4'))\n",
        "\n",
        "# model.add(Dropout(0.1, name = 'DROPOUT4'))\n",
        "\n",
        "model.add(Conv2D(256,\n",
        "                 kernel_size=filter_size,\n",
        "                 padding=padd,\n",
        "                 activation=act,\n",
        "                 input_shape=train_set.image_shape,\n",
        "                 name = 'CONV5'))\n",
        "\n",
        "model.add(GlobalMaxPooling2D(name = 'GLOBAL_MAXPOOL'))\n",
        "\n",
        "model.add(Dropout(0.2, name = 'DROPOUT4'))\n",
        "\n",
        "model.add(Dense(units=512,\n",
        "                activation='relu',\n",
        "                name ='FC1'))\n",
        "\n",
        "model.add(Dropout(0.2, name = 'DROPOUT5'))\n",
        "\n",
        "model.add(Dense(units = 15,\n",
        "                activation='softmax',\n",
        "                name = 'OUTPUT'))\n",
        "\n",
        "model.summary()\n"
      ],
      "execution_count": null,
      "outputs": [
        {
          "output_type": "stream",
          "text": [
            "Model: \"sequential_1\"\n",
            "_________________________________________________________________\n",
            "Layer (type)                 Output Shape              Param #   \n",
            "=================================================================\n",
            "CONV1 (Conv2D)               (None, 254, 254, 16)      448       \n",
            "_________________________________________________________________\n",
            "MAXPOOL1 (MaxPooling2D)      (None, 127, 127, 16)      0         \n",
            "_________________________________________________________________\n",
            "CONV2 (Conv2D)               (None, 125, 125, 32)      4640      \n",
            "_________________________________________________________________\n",
            "MAXPOOL2 (MaxPooling2D)      (None, 62, 62, 32)        0         \n",
            "_________________________________________________________________\n",
            "CONV3 (Conv2D)               (None, 60, 60, 64)        18496     \n",
            "_________________________________________________________________\n",
            "MAXPOOL3 (MaxPooling2D)      (None, 30, 30, 64)        0         \n",
            "_________________________________________________________________\n",
            "CONV4 (Conv2D)               (None, 28, 28, 128)       73856     \n",
            "_________________________________________________________________\n",
            "MAXPOOL4 (MaxPooling2D)      (None, 14, 14, 128)       0         \n",
            "_________________________________________________________________\n",
            "CONV5 (Conv2D)               (None, 12, 12, 256)       295168    \n",
            "_________________________________________________________________\n",
            "GLOBAL_MAXPOOL (GlobalMaxPoo (None, 256)               0         \n",
            "_________________________________________________________________\n",
            "DROPOUT4 (Dropout)           (None, 256)               0         \n",
            "_________________________________________________________________\n",
            "FC1 (Dense)                  (None, 512)               131584    \n",
            "_________________________________________________________________\n",
            "DROPOUT5 (Dropout)           (None, 512)               0         \n",
            "_________________________________________________________________\n",
            "OUTPUT (Dense)               (None, 15)                7695      \n",
            "=================================================================\n",
            "Total params: 531,887\n",
            "Trainable params: 531,887\n",
            "Non-trainable params: 0\n",
            "_________________________________________________________________\n"
          ],
          "name": "stdout"
        }
      ]
    },
    {
      "cell_type": "code",
      "metadata": {
        "id": "NK791Rm7knWi"
      },
      "source": [
        "opt = tf.keras.optimizers.Adam(learning_rate=0.00055, beta_1=0.9,beta_2=0.999)\n",
        "model.compile(loss='categorical_crossentropy', optimizer=opt, metrics=['accuracy'])"
      ],
      "execution_count": null,
      "outputs": []
    },
    {
      "cell_type": "code",
      "metadata": {
        "colab": {
          "base_uri": "https://localhost:8080/"
        },
        "id": "GVXvr2xzlhfZ",
        "outputId": "c751690f-5f31-4773-c725-766ef8b2f95f"
      },
      "source": [
        "!pip install livelossplot\n",
        "from tensorflow.keras.callbacks import ModelCheckpoint, EarlyStopping, ReduceLROnPlateau\n",
        "from livelossplot.inputs.tf_keras import PlotLossesCallback"
      ],
      "execution_count": null,
      "outputs": [
        {
          "output_type": "stream",
          "text": [
            "Collecting livelossplot\n",
            "  Downloading https://files.pythonhosted.org/packages/0f/08/1884157a3de72d41fa97cacacafaa49abf00eba53cb7e08615b2b65b4a9d/livelossplot-0.5.3-py3-none-any.whl\n",
            "Requirement already satisfied: matplotlib; python_version >= \"3.6\" in /usr/local/lib/python3.6/dist-packages (from livelossplot) (3.2.2)\n",
            "Requirement already satisfied: ipython in /usr/local/lib/python3.6/dist-packages (from livelossplot) (5.5.0)\n",
            "Requirement already satisfied: bokeh; python_version >= \"3.6\" in /usr/local/lib/python3.6/dist-packages (from livelossplot) (2.1.1)\n",
            "Requirement already satisfied: cycler>=0.10 in /usr/local/lib/python3.6/dist-packages (from matplotlib; python_version >= \"3.6\"->livelossplot) (0.10.0)\n",
            "Requirement already satisfied: python-dateutil>=2.1 in /usr/local/lib/python3.6/dist-packages (from matplotlib; python_version >= \"3.6\"->livelossplot) (2.8.1)\n",
            "Requirement already satisfied: kiwisolver>=1.0.1 in /usr/local/lib/python3.6/dist-packages (from matplotlib; python_version >= \"3.6\"->livelossplot) (1.3.1)\n",
            "Requirement already satisfied: numpy>=1.11 in /usr/local/lib/python3.6/dist-packages (from matplotlib; python_version >= \"3.6\"->livelossplot) (1.19.4)\n",
            "Requirement already satisfied: pyparsing!=2.0.4,!=2.1.2,!=2.1.6,>=2.0.1 in /usr/local/lib/python3.6/dist-packages (from matplotlib; python_version >= \"3.6\"->livelossplot) (2.4.7)\n",
            "Requirement already satisfied: pexpect; sys_platform != \"win32\" in /usr/local/lib/python3.6/dist-packages (from ipython->livelossplot) (4.8.0)\n",
            "Requirement already satisfied: traitlets>=4.2 in /usr/local/lib/python3.6/dist-packages (from ipython->livelossplot) (4.3.3)\n",
            "Requirement already satisfied: decorator in /usr/local/lib/python3.6/dist-packages (from ipython->livelossplot) (4.4.2)\n",
            "Requirement already satisfied: prompt-toolkit<2.0.0,>=1.0.4 in /usr/local/lib/python3.6/dist-packages (from ipython->livelossplot) (1.0.18)\n",
            "Requirement already satisfied: simplegeneric>0.8 in /usr/local/lib/python3.6/dist-packages (from ipython->livelossplot) (0.8.1)\n",
            "Requirement already satisfied: setuptools>=18.5 in /usr/local/lib/python3.6/dist-packages (from ipython->livelossplot) (51.0.0)\n",
            "Requirement already satisfied: pickleshare in /usr/local/lib/python3.6/dist-packages (from ipython->livelossplot) (0.7.5)\n",
            "Requirement already satisfied: pygments in /usr/local/lib/python3.6/dist-packages (from ipython->livelossplot) (2.6.1)\n",
            "Requirement already satisfied: PyYAML>=3.10 in /usr/local/lib/python3.6/dist-packages (from bokeh; python_version >= \"3.6\"->livelossplot) (3.13)\n",
            "Requirement already satisfied: typing-extensions>=3.7.4 in /usr/local/lib/python3.6/dist-packages (from bokeh; python_version >= \"3.6\"->livelossplot) (3.7.4.3)\n",
            "Requirement already satisfied: pillow>=4.0 in /usr/local/lib/python3.6/dist-packages (from bokeh; python_version >= \"3.6\"->livelossplot) (7.0.0)\n",
            "Requirement already satisfied: packaging>=16.8 in /usr/local/lib/python3.6/dist-packages (from bokeh; python_version >= \"3.6\"->livelossplot) (20.8)\n",
            "Requirement already satisfied: Jinja2>=2.7 in /usr/local/lib/python3.6/dist-packages (from bokeh; python_version >= \"3.6\"->livelossplot) (2.11.2)\n",
            "Requirement already satisfied: tornado>=5.1 in /usr/local/lib/python3.6/dist-packages (from bokeh; python_version >= \"3.6\"->livelossplot) (5.1.1)\n",
            "Requirement already satisfied: six in /usr/local/lib/python3.6/dist-packages (from cycler>=0.10->matplotlib; python_version >= \"3.6\"->livelossplot) (1.15.0)\n",
            "Requirement already satisfied: ptyprocess>=0.5 in /usr/local/lib/python3.6/dist-packages (from pexpect; sys_platform != \"win32\"->ipython->livelossplot) (0.6.0)\n",
            "Requirement already satisfied: ipython-genutils in /usr/local/lib/python3.6/dist-packages (from traitlets>=4.2->ipython->livelossplot) (0.2.0)\n",
            "Requirement already satisfied: wcwidth in /usr/local/lib/python3.6/dist-packages (from prompt-toolkit<2.0.0,>=1.0.4->ipython->livelossplot) (0.2.5)\n",
            "Requirement already satisfied: MarkupSafe>=0.23 in /usr/local/lib/python3.6/dist-packages (from Jinja2>=2.7->bokeh; python_version >= \"3.6\"->livelossplot) (1.1.1)\n",
            "Installing collected packages: livelossplot\n",
            "Successfully installed livelossplot-0.5.3\n"
          ],
          "name": "stdout"
        }
      ]
    },
    {
      "cell_type": "code",
      "metadata": {
        "colab": {
          "base_uri": "https://localhost:8080/"
        },
        "id": "hf5-iE_qlDFT",
        "outputId": "81b124b6-a025-4ff9-8527-d7722578ddfa"
      },
      "source": [
        "%%time\n",
        "\n",
        "chkpt = ModelCheckpoint(\"CNN2_3_OP1New.h5\", monitor='val_loss',verbose=1, save_best_only=True, save_weights_only=True, mode='min')\n",
        "\n",
        "early_stopping = EarlyStopping(monitor='val_loss', min_delta=0, patience=30, verbose=0, mode='min', baseline=None, restore_best_weights=True)\n",
        "\n",
        "lr_scheduler = ReduceLROnPlateau(\n",
        "    monitor='val_loss',\n",
        "    factor=0.5,\n",
        "    patience=3,\n",
        "    min_lr=1e-7,\n",
        "    verbose=1,\n",
        ")\n",
        "\n",
        "callbacks = [PlotLossesCallback(), chkpt, early_stopping, lr_scheduler]"
      ],
      "execution_count": null,
      "outputs": [
        {
          "output_type": "stream",
          "text": [
            "CPU times: user 378 µs, sys: 0 ns, total: 378 µs\n",
            "Wall time: 382 µs\n"
          ],
          "name": "stdout"
        }
      ]
    },
    {
      "cell_type": "code",
      "metadata": {
        "colab": {
          "base_uri": "https://localhost:8080/",
          "height": 755
        },
        "id": "mjUGjQv5mCUy",
        "outputId": "dc0fc26e-8d5f-4d8d-924d-a3af4a006ee6"
      },
      "source": [
        "history = model.fit(train_set,\n",
        "          epochs=100,\n",
        "          validation_data=dev_set,\n",
        "          callbacks = callbacks,\n",
        "          shuffle = True,\n",
        "          verbose=1)"
      ],
      "execution_count": null,
      "outputs": [
        {
          "output_type": "display_data",
          "data": {
            "image/png": "[encoded data removed]",
            "text/plain": [
              "<Figure size 864x576 with 2 Axes>"
            ]
          },
          "metadata": {
            "tags": [],
            "needs_background": "light"
          }
        },
        {
          "output_type": "stream",
          "text": [
            "accuracy\n",
            "\ttraining         \t (min:    0.639, max:    0.978, cur:    0.978)\n",
            "\tvalidation       \t (min:    0.817, max:    0.977, cur:    0.976)\n",
            "Loss\n",
            "\ttraining         \t (min:    0.055, max:    0.891, cur:    0.055)\n",
            "\tvalidation       \t (min:    0.078, max:    0.451, cur:    0.097)\n",
            "\n",
            "Epoch 00041: val_loss did not improve from 0.07837\n",
            "\n",
            "Epoch 00041: ReduceLROnPlateau reducing learning rate to 2.685546860448085e-07.\n"
          ],
          "name": "stdout"
        }
      ]
    },
    {
      "cell_type": "code",
      "metadata": {
        "id": "QNn6q7_foE9r"
      },
      "source": [
        "model.save('model_256')"
      ],
      "execution_count": null,
      "outputs": []
    }
    
  ]
}
